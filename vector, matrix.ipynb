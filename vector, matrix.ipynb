{
 "cells": [
  {
   "cell_type": "markdown",
   "metadata": {},
   "source": [
    "# Numpy 配列"
   ]
  },
  {
   "cell_type": "code",
   "execution_count": 1,
   "metadata": {
    "scrolled": false
   },
   "outputs": [
    {
     "data": {
      "text/plain": [
       "array([[11, 12, 13],\n",
       "       [21, 22, 23],\n",
       "       [31, 32, 33]])"
      ]
     },
     "execution_count": 1,
     "metadata": {},
     "output_type": "execute_result"
    }
   ],
   "source": [
    "import numpy as np\n",
    "matrix = np.array([\n",
    "    [11, 12, 13],\n",
    "    [21, 22, 23],\n",
    "    [31, 32, 33]\n",
    "])\n",
    "matrix"
   ]
  },
  {
   "cell_type": "markdown",
   "metadata": {},
   "source": [
    "# 疎行列\n",
    "0が多数の行列を効率的に処理する"
   ]
  },
  {
   "cell_type": "code",
   "execution_count": 2,
   "metadata": {
    "scrolled": true
   },
   "outputs": [
    {
     "name": "stdout",
     "output_type": "stream",
     "text": [
      "  (1, 1)\t1\n",
      "  (2, 0)\t3\n"
     ]
    }
   ],
   "source": [
    "import  numpy as np\n",
    "from scipy import sparse\n",
    "\n",
    "matrix = np.array([\n",
    "    [0, 0],\n",
    "    [0, 1],\n",
    "    [3, 0]\n",
    "])\n",
    "matrix_aparse = sparse.csr_matrix(matrix)\n",
    "print(matrix_aparse)"
   ]
  },
  {
   "cell_type": "markdown",
   "metadata": {},
   "source": [
    "# 行列要素の選択"
   ]
  },
  {
   "cell_type": "code",
   "execution_count": 3,
   "metadata": {
    "scrolled": true
   },
   "outputs": [
    {
     "data": {
      "text/plain": [
       "array([31, 32, 33])"
      ]
     },
     "execution_count": 3,
     "metadata": {},
     "output_type": "execute_result"
    }
   ],
   "source": [
    "import numpy as np\n",
    "matrix = np.array([\n",
    "    [11, 12, 13],\n",
    "    [21, 22, 23],\n",
    "    [31, 32, 33]\n",
    "])\n",
    "matrix[2]"
   ]
  },
  {
   "cell_type": "markdown",
   "metadata": {},
   "source": [
    "# 行列の情報を取得する"
   ]
  },
  {
   "cell_type": "code",
   "execution_count": 4,
   "metadata": {},
   "outputs": [
    {
     "name": "stdout",
     "output_type": "stream",
     "text": [
      "(3, 3)\n",
      "9\n",
      "2\n"
     ]
    }
   ],
   "source": [
    "import numpy as np\n",
    "matrix = np.array([\n",
    "    [11, 12, 13],\n",
    "    [21, 22, 23],\n",
    "    [31, 32, 33]\n",
    "])\n",
    "\n",
    "# 行, 列\n",
    "print(matrix.shape)\n",
    "# 要素数\n",
    "print(matrix.size)\n",
    "# 次元数\n",
    "print(matrix.ndim)\n"
   ]
  },
  {
   "cell_type": "markdown",
   "metadata": {},
   "source": [
    "# 行列の計算"
   ]
  },
  {
   "cell_type": "code",
   "execution_count": 5,
   "metadata": {},
   "outputs": [
    {
     "data": {
      "text/plain": [
       "array([[0.04313725, 0.04705882, 0.05098039],\n",
       "       [0.08235294, 0.08627451, 0.09019608],\n",
       "       [0.12156863, 0.1254902 , 0.12941176]])"
      ]
     },
     "execution_count": 5,
     "metadata": {},
     "output_type": "execute_result"
    }
   ],
   "source": [
    "import numpy as np\n",
    "matrix = np.array([\n",
    "    [11, 12, 13],\n",
    "    [21, 22, 23],\n",
    "    [31, 32, 33]\n",
    "])\n",
    "\n",
    "# 画像を0~1の間に変換する処理はよく使う\n",
    "matrix / 255"
   ]
  },
  {
   "cell_type": "markdown",
   "metadata": {},
   "source": [
    "# 最小値、最大値、平均値、分散、標準偏差"
   ]
  },
  {
   "cell_type": "code",
   "execution_count": 6,
   "metadata": {
    "scrolled": true
   },
   "outputs": [
    {
     "name": "stdout",
     "output_type": "stream",
     "text": [
      "11\n",
      "33\n",
      "[31 32 33]\n",
      "[13 23 33]\n",
      "22.0\n",
      "67.33333333333333\n",
      "8.205689083394114\n"
     ]
    }
   ],
   "source": [
    "import numpy as np\n",
    "matrix = np.array([\n",
    "    [11, 12, 13],\n",
    "    [21, 22, 23],\n",
    "    [31, 32, 33]\n",
    "])\n",
    "\n",
    "# 最小値\n",
    "print(np.min(matrix))\n",
    "# 最大値\n",
    "print(np.max(matrix))\n",
    "# 列単位 ↓\n",
    "print(np.max(matrix, axis=0))\n",
    "# 行単位 →\n",
    "print(np.max(matrix, axis=1))\n",
    "# 平均値\n",
    "print(np.mean(matrix))\n",
    "# 分散\n",
    "print(np.var(matrix))\n",
    "# 標準偏差\n",
    "print(np.std(matrix))\n"
   ]
  },
  {
   "cell_type": "markdown",
   "metadata": {},
   "source": [
    "# 配列の形状変換"
   ]
  },
  {
   "cell_type": "code",
   "execution_count": 7,
   "metadata": {},
   "outputs": [
    {
     "name": "stdout",
     "output_type": "stream",
     "text": [
      "(3, 3, 1)\n",
      "[[[11]\n",
      "  [12]\n",
      "  [13]]\n",
      "\n",
      " [[21]\n",
      "  [22]\n",
      "  [23]]\n",
      "\n",
      " [[31]\n",
      "  [32]\n",
      "  [33]]]\n",
      "(3, 3)\n",
      "[[11 12 13]\n",
      " [21 22 23]\n",
      " [31 32 33]]\n"
     ]
    }
   ],
   "source": [
    "import numpy as np\n",
    "matrix = np.array([\n",
    "    [11, 12, 13],\n",
    "    [21, 22, 23],\n",
    "    [31, 32, 33]\n",
    "])\n",
    "\n",
    "# 画像認識などで利用する\n",
    "matrix = matrix.reshape(3, 3, 1)\n",
    "print(matrix.shape)\n",
    "print(matrix)\n",
    "\n",
    "# -1を指定した場合自動で推測される 元の形状と互換性を保つ必要がある。この場合だと(2, -1)などは指定できない\n",
    "matrix = matrix.reshape(3, -1)\n",
    "print(matrix.shape)\n",
    "print(matrix)\n"
   ]
  },
  {
   "cell_type": "markdown",
   "metadata": {},
   "source": [
    "# 行列の転置"
   ]
  },
  {
   "cell_type": "code",
   "execution_count": 8,
   "metadata": {},
   "outputs": [
    {
     "data": {
      "text/plain": [
       "array([[11, 21, 31],\n",
       "       [12, 22, 32],\n",
       "       [13, 23, 33]])"
      ]
     },
     "execution_count": 8,
     "metadata": {},
     "output_type": "execute_result"
    }
   ],
   "source": [
    "import numpy as np\n",
    "matrix = np.array([\n",
    "    [11, 12, 13],\n",
    "    [21, 22, 23],\n",
    "    [31, 32, 33]\n",
    "])\n",
    "\n",
    "# 環境、ライブラリによっては行列が逆転している場合がある\n",
    "matrix.T"
   ]
  },
  {
   "cell_type": "markdown",
   "metadata": {},
   "source": [
    "# 行列のフラット化"
   ]
  },
  {
   "cell_type": "code",
   "execution_count": 9,
   "metadata": {},
   "outputs": [
    {
     "name": "stdout",
     "output_type": "stream",
     "text": [
      "[11 12 13 21 22 23 31 32 33]\n",
      "[[11 12 13 21 22 23 31 32 33]]\n"
     ]
    }
   ],
   "source": [
    "import numpy as np\n",
    "matrix = np.array([\n",
    "    [11, 12, 13],\n",
    "    [21, 22, 23],\n",
    "    [31, 32, 33]\n",
    "])\n",
    "\n",
    "print(matrix.flatten())\n",
    "\n",
    "matrix = np.array([\n",
    "    [11, 12, 13],\n",
    "    [21, 22, 23],\n",
    "    [31, 32, 33]\n",
    "])\n",
    "# 以下とほぼ同じ挙動になる\n",
    "print(matrix.reshape(1, -1))"
   ]
  },
  {
   "cell_type": "markdown",
   "metadata": {},
   "source": [
    "# 乱数のseed値設定、乱数生成"
   ]
  },
  {
   "cell_type": "code",
   "execution_count": 10,
   "metadata": {},
   "outputs": [
    {
     "data": {
      "text/plain": [
       "array([0.70043712, 0.84418664, 0.67651434, 0.72785806, 0.95145796,\n",
       "       0.0127032 , 0.4135877 , 0.04881279, 0.09992856, 0.50806631])"
      ]
     },
     "execution_count": 10,
     "metadata": {},
     "output_type": "execute_result"
    }
   ],
   "source": [
    "import numpy as np\n",
    "\n",
    "# 再現可能にするためにseed値を設定する\n",
    "np.random.seed(666)\n",
    "\n",
    "# 乱数を10個生成\n",
    "np.random.random(10)"
   ]
  }
 ],
 "metadata": {
  "kernelspec": {
   "display_name": "Python 3",
   "language": "python",
   "name": "python3"
  },
  "language_info": {
   "codemirror_mode": {
    "name": "ipython",
    "version": 3
   },
   "file_extension": ".py",
   "mimetype": "text/x-python",
   "name": "python",
   "nbconvert_exporter": "python",
   "pygments_lexer": "ipython3",
   "version": "3.7.1"
  }
 },
 "nbformat": 4,
 "nbformat_minor": 2
}
